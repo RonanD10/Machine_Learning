{
  "nbformat": 4,
  "nbformat_minor": 0,
  "metadata": {
    "colab": {
      "provenance": []
    },
    "kernelspec": {
      "name": "python3",
      "display_name": "Python 3"
    },
    "language_info": {
      "name": "python"
    }
  },
  "cells": [
    {
      "cell_type": "code",
      "execution_count": 2,
      "metadata": {
        "colab": {
          "base_uri": "https://localhost:8080/"
        },
        "id": "0IKxEyj4d2KN",
        "outputId": "cea5bd2e-b38b-4730-e7a3-90d7dc81f4ba"
      },
      "outputs": [
        {
          "output_type": "stream",
          "name": "stdout",
          "text": [
            "Mounted at /content/drive\n"
          ]
        }
      ],
      "source": [
        "import pandas as pd\n",
        "import numpy as np\n",
        "import matplotlib.pyplot as plt\n",
        "import seaborn as sns\n",
        "from IPython.display import clear_output\n",
        "import random\n",
        "\n",
        "pd.set_option('display.max_columns', None)\n",
        "pd.set_option('display.max_rows', 100)\n",
        "\n",
        "from google.colab import drive, files\n",
        "drive.mount('/content/drive')\n",
        "\n",
        "from sklearn.preprocessing import StandardScaler\n",
        "from sklearn.model_selection import train_test_split, GridSearchCV, cross_val_score\n",
        "from sklearn.linear_model import LogisticRegression\n",
        "from sklearn.ensemble import RandomForestRegressor\n",
        "from sklearn.metrics import accuracy_score\n"
      ]
    },
    {
      "cell_type": "code",
      "source": [
        "features = pd.read_csv('/content/drive/MyDrive/Colab Notebooks/Tennis Project/features_processed.csv')\n",
        "features.columns"
      ],
      "metadata": {
        "colab": {
          "base_uri": "https://localhost:8080/"
        },
        "id": "yRL3qUJhqUiK",
        "outputId": "e3d792a0-ac0b-42f3-b759-70a01a2e02fa"
      },
      "execution_count": 3,
      "outputs": [
        {
          "output_type": "execute_result",
          "data": {
            "text/plain": [
              "Index(['surface', 'A_rank', 'B_rank', 'A_elo_surface', 'B_elo_surface',\n",
              "       'A_elo', 'B_elo', 'A_avged_elo', 'B_avged_elo', 'A_wins', 'B_wins',\n",
              "       'A_wins_surface', 'B_wins_surface', 'A_12month_form', 'B_12month_form',\n",
              "       'A_12month_form_surface', 'B_12month_form_surface', 'A_hand', 'B_hand'],\n",
              "      dtype='object')"
            ]
          },
          "metadata": {},
          "execution_count": 3
        }
      ]
    },
    {
      "cell_type": "code",
      "source": [
        "# Randomly assign winner and loser to player A and B, whilst maintaining attributes\n",
        "\n",
        "features['A_won'] = 0\n",
        "np.random.seed(seed=42)\n",
        "\n",
        "for i in range(len(features)):\n",
        "    playerA_won = np.random.randint(0, 2)\n",
        "    features.loc[i, 'A_won'] = playerA_won\n",
        "    if playerA_won == 0:\n",
        "        features.loc[i, 'A_rank'], features.loc[i, 'B_rank'] = features.loc[i, 'B_rank'], features.loc[i, 'A_rank']\n",
        "        features.loc[i, 'A_elo'], features.loc[i, 'B_elo'] = features.loc[i, 'B_elo'], features.loc[i, 'A_elo']\n",
        "        features.loc[i, 'A_elo_surface'], features.loc[i, 'B_elo_surface'] = features.loc[i, 'B_elo_surface'], features.loc[i, 'A_elo_surface']\n",
        "        features.loc[i, 'A_wins'], features.loc[i, 'B_wins'] = features.loc[i, 'B_wins'], features.loc[i, 'A_wins']\n",
        "        features.loc[i, 'A_wins_surface'], features.loc[i, 'B_wins_surface'] = features.loc[i, 'B_wins_surface'], features.loc[i, 'A_wins_surface']\n",
        "        features.loc[i, 'A_12month_form'], features.loc[i, 'B_12month_form'] = features.loc[i, 'B_12month_form'], features.loc[i, 'A_12month_form']\n",
        "        features.loc[i, 'A_12month_form_surface'], features.loc[i, 'B_12month_form_surface'] =  features.loc[i, 'B_12month_form_surface'], features.loc[i, 'A_12month_form_surface']\n",
        "        features.loc[i, 'A_hand'], features.loc[i, 'B_hand'] = features.loc[i, 'B_hand'], features.loc[i, 'A_hand']"
      ],
      "metadata": {
        "id": "mNB5NwlIql45"
      },
      "execution_count": 4,
      "outputs": []
    },
    {
      "cell_type": "code",
      "source": [
        "features = pd.get_dummies(features)"
      ],
      "metadata": {
        "id": "1s21LMMgq04p"
      },
      "execution_count": 5,
      "outputs": []
    },
    {
      "cell_type": "code",
      "source": [
        "features = features.dropna().reset_index(drop=True)\n",
        "features"
      ],
      "metadata": {
        "colab": {
          "base_uri": "https://localhost:8080/",
          "height": 444
        },
        "id": "coKw-eVaLYIx",
        "outputId": "a5ce0a8a-52eb-4e86-bbc7-40301e35e13a"
      },
      "execution_count": 6,
      "outputs": [
        {
          "output_type": "execute_result",
          "data": {
            "text/plain": [
              "        A_rank  B_rank  A_elo_surface  B_elo_surface     A_elo     B_elo  \\\n",
              "0         23.0     3.0       1644.770       1988.523  1772.521  2151.654   \n",
              "1         22.0    30.0       1584.360       1501.014  1859.956  1714.681   \n",
              "2         58.0    55.0       1792.652       1554.535  1821.925  1712.486   \n",
              "3         39.0    15.0       1542.475       1740.677  1794.640  1885.650   \n",
              "4         97.0    18.0       1503.159       1766.935  1607.397  1922.537   \n",
              "...        ...     ...            ...            ...       ...       ...   \n",
              "143489    56.0     7.0       1590.551       1901.149  1684.596  1926.081   \n",
              "143490    47.0    29.0       1672.773       1694.263  1698.955  1724.848   \n",
              "143491   117.0    19.0       1542.649       1554.270  1567.658  1797.649   \n",
              "143492     7.0    44.0       1905.735       1605.691  1932.462  1796.400   \n",
              "143493    29.0   117.0       1709.275       1559.184  1739.658  1592.933   \n",
              "\n",
              "        A_avged_elo  B_avged_elo  A_wins  B_wins  A_wins_surface  \\\n",
              "0         2070.0885    1708.6455       0       0               0   \n",
              "1         1722.1580    1607.8475       0       0               0   \n",
              "2         1633.5105    1807.2885       0       0               0   \n",
              "3         1813.1635    1668.5575       0       0               0   \n",
              "4         1844.7360    1555.2780       0       0               0   \n",
              "...             ...          ...     ...     ...             ...   \n",
              "143489    1913.6150    1637.5735       0       0               0   \n",
              "143490    1709.5555    1685.8640       0       0               0   \n",
              "143491    1555.1535    1675.9595       0       1               0   \n",
              "143492    1919.0985    1701.0455       1       0               0   \n",
              "143493    1576.0585    1724.4665       0       0               0   \n",
              "\n",
              "        B_wins_surface  A_12month_form  B_12month_form  \\\n",
              "0                    0        0.000000        0.833333   \n",
              "1                    0        0.666667        0.000000   \n",
              "2                    0        0.000000        0.500000   \n",
              "3                    0        0.000000        0.750000   \n",
              "4                    0        0.000000        0.666667   \n",
              "...                ...             ...             ...   \n",
              "143489               0        0.515152        0.717949   \n",
              "143490               0        0.680000        0.525424   \n",
              "143491               0        0.700000        0.603448   \n",
              "143492               0        0.717949        0.636364   \n",
              "143493               0        0.525424        0.700000   \n",
              "\n",
              "        A_12month_form_surface  B_12month_form_surface  A_hand  B_hand  A_won  \\\n",
              "0                     0.000000                0.833333     0.0     0.0      0   \n",
              "1                     0.666667                0.000000     1.0     0.0      1   \n",
              "2                     0.000000                0.500000     0.0     0.0      0   \n",
              "3                     0.000000                0.750000     0.0     0.0      0   \n",
              "4                     0.000000                0.666667     0.0     1.0      0   \n",
              "...                        ...                     ...     ...     ...    ...   \n",
              "143489                0.533333                0.783784     0.0     0.0      0   \n",
              "143490                0.708333                0.617647     0.0     0.0      0   \n",
              "143491                0.833333                0.500000     0.0     0.0      1   \n",
              "143492                0.783784                0.666667     0.0     0.0      1   \n",
              "143493                0.617647                0.833333     0.0     0.0      0   \n",
              "\n",
              "        surface_carpet  surface_clay  surface_grass  surface_hard  \n",
              "0                False         False           True         False  \n",
              "1                False         False           True         False  \n",
              "2                False         False           True         False  \n",
              "3                False         False           True         False  \n",
              "4                False         False           True         False  \n",
              "...                ...           ...            ...           ...  \n",
              "143489           False          True          False         False  \n",
              "143490           False          True          False         False  \n",
              "143491           False          True          False         False  \n",
              "143492           False          True          False         False  \n",
              "143493           False          True          False         False  \n",
              "\n",
              "[143494 rows x 23 columns]"
            ],
            "text/html": [
              "\n",
              "  <div id=\"df-0831bc59-a2d9-4e0e-9b24-06d3032c1951\" class=\"colab-df-container\">\n",
              "    <div>\n",
              "<style scoped>\n",
              "    .dataframe tbody tr th:only-of-type {\n",
              "        vertical-align: middle;\n",
              "    }\n",
              "\n",
              "    .dataframe tbody tr th {\n",
              "        vertical-align: top;\n",
              "    }\n",
              "\n",
              "    .dataframe thead th {\n",
              "        text-align: right;\n",
              "    }\n",
              "</style>\n",
              "<table border=\"1\" class=\"dataframe\">\n",
              "  <thead>\n",
              "    <tr style=\"text-align: right;\">\n",
              "      <th></th>\n",
              "      <th>A_rank</th>\n",
              "      <th>B_rank</th>\n",
              "      <th>A_elo_surface</th>\n",
              "      <th>B_elo_surface</th>\n",
              "      <th>A_elo</th>\n",
              "      <th>B_elo</th>\n",
              "      <th>A_avged_elo</th>\n",
              "      <th>B_avged_elo</th>\n",
              "      <th>A_wins</th>\n",
              "      <th>B_wins</th>\n",
              "      <th>A_wins_surface</th>\n",
              "      <th>B_wins_surface</th>\n",
              "      <th>A_12month_form</th>\n",
              "      <th>B_12month_form</th>\n",
              "      <th>A_12month_form_surface</th>\n",
              "      <th>B_12month_form_surface</th>\n",
              "      <th>A_hand</th>\n",
              "      <th>B_hand</th>\n",
              "      <th>A_won</th>\n",
              "      <th>surface_carpet</th>\n",
              "      <th>surface_clay</th>\n",
              "      <th>surface_grass</th>\n",
              "      <th>surface_hard</th>\n",
              "    </tr>\n",
              "  </thead>\n",
              "  <tbody>\n",
              "    <tr>\n",
              "      <th>0</th>\n",
              "      <td>23.0</td>\n",
              "      <td>3.0</td>\n",
              "      <td>1644.770</td>\n",
              "      <td>1988.523</td>\n",
              "      <td>1772.521</td>\n",
              "      <td>2151.654</td>\n",
              "      <td>2070.0885</td>\n",
              "      <td>1708.6455</td>\n",
              "      <td>0</td>\n",
              "      <td>0</td>\n",
              "      <td>0</td>\n",
              "      <td>0</td>\n",
              "      <td>0.000000</td>\n",
              "      <td>0.833333</td>\n",
              "      <td>0.000000</td>\n",
              "      <td>0.833333</td>\n",
              "      <td>0.0</td>\n",
              "      <td>0.0</td>\n",
              "      <td>0</td>\n",
              "      <td>False</td>\n",
              "      <td>False</td>\n",
              "      <td>True</td>\n",
              "      <td>False</td>\n",
              "    </tr>\n",
              "    <tr>\n",
              "      <th>1</th>\n",
              "      <td>22.0</td>\n",
              "      <td>30.0</td>\n",
              "      <td>1584.360</td>\n",
              "      <td>1501.014</td>\n",
              "      <td>1859.956</td>\n",
              "      <td>1714.681</td>\n",
              "      <td>1722.1580</td>\n",
              "      <td>1607.8475</td>\n",
              "      <td>0</td>\n",
              "      <td>0</td>\n",
              "      <td>0</td>\n",
              "      <td>0</td>\n",
              "      <td>0.666667</td>\n",
              "      <td>0.000000</td>\n",
              "      <td>0.666667</td>\n",
              "      <td>0.000000</td>\n",
              "      <td>1.0</td>\n",
              "      <td>0.0</td>\n",
              "      <td>1</td>\n",
              "      <td>False</td>\n",
              "      <td>False</td>\n",
              "      <td>True</td>\n",
              "      <td>False</td>\n",
              "    </tr>\n",
              "    <tr>\n",
              "      <th>2</th>\n",
              "      <td>58.0</td>\n",
              "      <td>55.0</td>\n",
              "      <td>1792.652</td>\n",
              "      <td>1554.535</td>\n",
              "      <td>1821.925</td>\n",
              "      <td>1712.486</td>\n",
              "      <td>1633.5105</td>\n",
              "      <td>1807.2885</td>\n",
              "      <td>0</td>\n",
              "      <td>0</td>\n",
              "      <td>0</td>\n",
              "      <td>0</td>\n",
              "      <td>0.000000</td>\n",
              "      <td>0.500000</td>\n",
              "      <td>0.000000</td>\n",
              "      <td>0.500000</td>\n",
              "      <td>0.0</td>\n",
              "      <td>0.0</td>\n",
              "      <td>0</td>\n",
              "      <td>False</td>\n",
              "      <td>False</td>\n",
              "      <td>True</td>\n",
              "      <td>False</td>\n",
              "    </tr>\n",
              "    <tr>\n",
              "      <th>3</th>\n",
              "      <td>39.0</td>\n",
              "      <td>15.0</td>\n",
              "      <td>1542.475</td>\n",
              "      <td>1740.677</td>\n",
              "      <td>1794.640</td>\n",
              "      <td>1885.650</td>\n",
              "      <td>1813.1635</td>\n",
              "      <td>1668.5575</td>\n",
              "      <td>0</td>\n",
              "      <td>0</td>\n",
              "      <td>0</td>\n",
              "      <td>0</td>\n",
              "      <td>0.000000</td>\n",
              "      <td>0.750000</td>\n",
              "      <td>0.000000</td>\n",
              "      <td>0.750000</td>\n",
              "      <td>0.0</td>\n",
              "      <td>0.0</td>\n",
              "      <td>0</td>\n",
              "      <td>False</td>\n",
              "      <td>False</td>\n",
              "      <td>True</td>\n",
              "      <td>False</td>\n",
              "    </tr>\n",
              "    <tr>\n",
              "      <th>4</th>\n",
              "      <td>97.0</td>\n",
              "      <td>18.0</td>\n",
              "      <td>1503.159</td>\n",
              "      <td>1766.935</td>\n",
              "      <td>1607.397</td>\n",
              "      <td>1922.537</td>\n",
              "      <td>1844.7360</td>\n",
              "      <td>1555.2780</td>\n",
              "      <td>0</td>\n",
              "      <td>0</td>\n",
              "      <td>0</td>\n",
              "      <td>0</td>\n",
              "      <td>0.000000</td>\n",
              "      <td>0.666667</td>\n",
              "      <td>0.000000</td>\n",
              "      <td>0.666667</td>\n",
              "      <td>0.0</td>\n",
              "      <td>1.0</td>\n",
              "      <td>0</td>\n",
              "      <td>False</td>\n",
              "      <td>False</td>\n",
              "      <td>True</td>\n",
              "      <td>False</td>\n",
              "    </tr>\n",
              "    <tr>\n",
              "      <th>...</th>\n",
              "      <td>...</td>\n",
              "      <td>...</td>\n",
              "      <td>...</td>\n",
              "      <td>...</td>\n",
              "      <td>...</td>\n",
              "      <td>...</td>\n",
              "      <td>...</td>\n",
              "      <td>...</td>\n",
              "      <td>...</td>\n",
              "      <td>...</td>\n",
              "      <td>...</td>\n",
              "      <td>...</td>\n",
              "      <td>...</td>\n",
              "      <td>...</td>\n",
              "      <td>...</td>\n",
              "      <td>...</td>\n",
              "      <td>...</td>\n",
              "      <td>...</td>\n",
              "      <td>...</td>\n",
              "      <td>...</td>\n",
              "      <td>...</td>\n",
              "      <td>...</td>\n",
              "      <td>...</td>\n",
              "    </tr>\n",
              "    <tr>\n",
              "      <th>143489</th>\n",
              "      <td>56.0</td>\n",
              "      <td>7.0</td>\n",
              "      <td>1590.551</td>\n",
              "      <td>1901.149</td>\n",
              "      <td>1684.596</td>\n",
              "      <td>1926.081</td>\n",
              "      <td>1913.6150</td>\n",
              "      <td>1637.5735</td>\n",
              "      <td>0</td>\n",
              "      <td>0</td>\n",
              "      <td>0</td>\n",
              "      <td>0</td>\n",
              "      <td>0.515152</td>\n",
              "      <td>0.717949</td>\n",
              "      <td>0.533333</td>\n",
              "      <td>0.783784</td>\n",
              "      <td>0.0</td>\n",
              "      <td>0.0</td>\n",
              "      <td>0</td>\n",
              "      <td>False</td>\n",
              "      <td>True</td>\n",
              "      <td>False</td>\n",
              "      <td>False</td>\n",
              "    </tr>\n",
              "    <tr>\n",
              "      <th>143490</th>\n",
              "      <td>47.0</td>\n",
              "      <td>29.0</td>\n",
              "      <td>1672.773</td>\n",
              "      <td>1694.263</td>\n",
              "      <td>1698.955</td>\n",
              "      <td>1724.848</td>\n",
              "      <td>1709.5555</td>\n",
              "      <td>1685.8640</td>\n",
              "      <td>0</td>\n",
              "      <td>0</td>\n",
              "      <td>0</td>\n",
              "      <td>0</td>\n",
              "      <td>0.680000</td>\n",
              "      <td>0.525424</td>\n",
              "      <td>0.708333</td>\n",
              "      <td>0.617647</td>\n",
              "      <td>0.0</td>\n",
              "      <td>0.0</td>\n",
              "      <td>0</td>\n",
              "      <td>False</td>\n",
              "      <td>True</td>\n",
              "      <td>False</td>\n",
              "      <td>False</td>\n",
              "    </tr>\n",
              "    <tr>\n",
              "      <th>143491</th>\n",
              "      <td>117.0</td>\n",
              "      <td>19.0</td>\n",
              "      <td>1542.649</td>\n",
              "      <td>1554.270</td>\n",
              "      <td>1567.658</td>\n",
              "      <td>1797.649</td>\n",
              "      <td>1555.1535</td>\n",
              "      <td>1675.9595</td>\n",
              "      <td>0</td>\n",
              "      <td>1</td>\n",
              "      <td>0</td>\n",
              "      <td>0</td>\n",
              "      <td>0.700000</td>\n",
              "      <td>0.603448</td>\n",
              "      <td>0.833333</td>\n",
              "      <td>0.500000</td>\n",
              "      <td>0.0</td>\n",
              "      <td>0.0</td>\n",
              "      <td>1</td>\n",
              "      <td>False</td>\n",
              "      <td>True</td>\n",
              "      <td>False</td>\n",
              "      <td>False</td>\n",
              "    </tr>\n",
              "    <tr>\n",
              "      <th>143492</th>\n",
              "      <td>7.0</td>\n",
              "      <td>44.0</td>\n",
              "      <td>1905.735</td>\n",
              "      <td>1605.691</td>\n",
              "      <td>1932.462</td>\n",
              "      <td>1796.400</td>\n",
              "      <td>1919.0985</td>\n",
              "      <td>1701.0455</td>\n",
              "      <td>1</td>\n",
              "      <td>0</td>\n",
              "      <td>0</td>\n",
              "      <td>0</td>\n",
              "      <td>0.717949</td>\n",
              "      <td>0.636364</td>\n",
              "      <td>0.783784</td>\n",
              "      <td>0.666667</td>\n",
              "      <td>0.0</td>\n",
              "      <td>0.0</td>\n",
              "      <td>1</td>\n",
              "      <td>False</td>\n",
              "      <td>True</td>\n",
              "      <td>False</td>\n",
              "      <td>False</td>\n",
              "    </tr>\n",
              "    <tr>\n",
              "      <th>143493</th>\n",
              "      <td>29.0</td>\n",
              "      <td>117.0</td>\n",
              "      <td>1709.275</td>\n",
              "      <td>1559.184</td>\n",
              "      <td>1739.658</td>\n",
              "      <td>1592.933</td>\n",
              "      <td>1576.0585</td>\n",
              "      <td>1724.4665</td>\n",
              "      <td>0</td>\n",
              "      <td>0</td>\n",
              "      <td>0</td>\n",
              "      <td>0</td>\n",
              "      <td>0.525424</td>\n",
              "      <td>0.700000</td>\n",
              "      <td>0.617647</td>\n",
              "      <td>0.833333</td>\n",
              "      <td>0.0</td>\n",
              "      <td>0.0</td>\n",
              "      <td>0</td>\n",
              "      <td>False</td>\n",
              "      <td>True</td>\n",
              "      <td>False</td>\n",
              "      <td>False</td>\n",
              "    </tr>\n",
              "  </tbody>\n",
              "</table>\n",
              "<p>143494 rows × 23 columns</p>\n",
              "</div>\n",
              "    <div class=\"colab-df-buttons\">\n",
              "\n",
              "  <div class=\"colab-df-container\">\n",
              "    <button class=\"colab-df-convert\" onclick=\"convertToInteractive('df-0831bc59-a2d9-4e0e-9b24-06d3032c1951')\"\n",
              "            title=\"Convert this dataframe to an interactive table.\"\n",
              "            style=\"display:none;\">\n",
              "\n",
              "  <svg xmlns=\"http://www.w3.org/2000/svg\" height=\"24px\" viewBox=\"0 -960 960 960\">\n",
              "    <path d=\"M120-120v-720h720v720H120Zm60-500h600v-160H180v160Zm220 220h160v-160H400v160Zm0 220h160v-160H400v160ZM180-400h160v-160H180v160Zm440 0h160v-160H620v160ZM180-180h160v-160H180v160Zm440 0h160v-160H620v160Z\"/>\n",
              "  </svg>\n",
              "    </button>\n",
              "\n",
              "  <style>\n",
              "    .colab-df-container {\n",
              "      display:flex;\n",
              "      gap: 12px;\n",
              "    }\n",
              "\n",
              "    .colab-df-convert {\n",
              "      background-color: #E8F0FE;\n",
              "      border: none;\n",
              "      border-radius: 50%;\n",
              "      cursor: pointer;\n",
              "      display: none;\n",
              "      fill: #1967D2;\n",
              "      height: 32px;\n",
              "      padding: 0 0 0 0;\n",
              "      width: 32px;\n",
              "    }\n",
              "\n",
              "    .colab-df-convert:hover {\n",
              "      background-color: #E2EBFA;\n",
              "      box-shadow: 0px 1px 2px rgba(60, 64, 67, 0.3), 0px 1px 3px 1px rgba(60, 64, 67, 0.15);\n",
              "      fill: #174EA6;\n",
              "    }\n",
              "\n",
              "    .colab-df-buttons div {\n",
              "      margin-bottom: 4px;\n",
              "    }\n",
              "\n",
              "    [theme=dark] .colab-df-convert {\n",
              "      background-color: #3B4455;\n",
              "      fill: #D2E3FC;\n",
              "    }\n",
              "\n",
              "    [theme=dark] .colab-df-convert:hover {\n",
              "      background-color: #434B5C;\n",
              "      box-shadow: 0px 1px 3px 1px rgba(0, 0, 0, 0.15);\n",
              "      filter: drop-shadow(0px 1px 2px rgba(0, 0, 0, 0.3));\n",
              "      fill: #FFFFFF;\n",
              "    }\n",
              "  </style>\n",
              "\n",
              "    <script>\n",
              "      const buttonEl =\n",
              "        document.querySelector('#df-0831bc59-a2d9-4e0e-9b24-06d3032c1951 button.colab-df-convert');\n",
              "      buttonEl.style.display =\n",
              "        google.colab.kernel.accessAllowed ? 'block' : 'none';\n",
              "\n",
              "      async function convertToInteractive(key) {\n",
              "        const element = document.querySelector('#df-0831bc59-a2d9-4e0e-9b24-06d3032c1951');\n",
              "        const dataTable =\n",
              "          await google.colab.kernel.invokeFunction('convertToInteractive',\n",
              "                                                    [key], {});\n",
              "        if (!dataTable) return;\n",
              "\n",
              "        const docLinkHtml = 'Like what you see? Visit the ' +\n",
              "          '<a target=\"_blank\" href=https://colab.research.google.com/notebooks/data_table.ipynb>data table notebook</a>'\n",
              "          + ' to learn more about interactive tables.';\n",
              "        element.innerHTML = '';\n",
              "        dataTable['output_type'] = 'display_data';\n",
              "        await google.colab.output.renderOutput(dataTable, element);\n",
              "        const docLink = document.createElement('div');\n",
              "        docLink.innerHTML = docLinkHtml;\n",
              "        element.appendChild(docLink);\n",
              "      }\n",
              "    </script>\n",
              "  </div>\n",
              "\n",
              "\n",
              "<div id=\"df-12699483-4487-43ab-a3ba-23671b4f9038\">\n",
              "  <button class=\"colab-df-quickchart\" onclick=\"quickchart('df-12699483-4487-43ab-a3ba-23671b4f9038')\"\n",
              "            title=\"Suggest charts\"\n",
              "            style=\"display:none;\">\n",
              "\n",
              "<svg xmlns=\"http://www.w3.org/2000/svg\" height=\"24px\"viewBox=\"0 0 24 24\"\n",
              "     width=\"24px\">\n",
              "    <g>\n",
              "        <path d=\"M19 3H5c-1.1 0-2 .9-2 2v14c0 1.1.9 2 2 2h14c1.1 0 2-.9 2-2V5c0-1.1-.9-2-2-2zM9 17H7v-7h2v7zm4 0h-2V7h2v10zm4 0h-2v-4h2v4z\"/>\n",
              "    </g>\n",
              "</svg>\n",
              "  </button>\n",
              "\n",
              "<style>\n",
              "  .colab-df-quickchart {\n",
              "      --bg-color: #E8F0FE;\n",
              "      --fill-color: #1967D2;\n",
              "      --hover-bg-color: #E2EBFA;\n",
              "      --hover-fill-color: #174EA6;\n",
              "      --disabled-fill-color: #AAA;\n",
              "      --disabled-bg-color: #DDD;\n",
              "  }\n",
              "\n",
              "  [theme=dark] .colab-df-quickchart {\n",
              "      --bg-color: #3B4455;\n",
              "      --fill-color: #D2E3FC;\n",
              "      --hover-bg-color: #434B5C;\n",
              "      --hover-fill-color: #FFFFFF;\n",
              "      --disabled-bg-color: #3B4455;\n",
              "      --disabled-fill-color: #666;\n",
              "  }\n",
              "\n",
              "  .colab-df-quickchart {\n",
              "    background-color: var(--bg-color);\n",
              "    border: none;\n",
              "    border-radius: 50%;\n",
              "    cursor: pointer;\n",
              "    display: none;\n",
              "    fill: var(--fill-color);\n",
              "    height: 32px;\n",
              "    padding: 0;\n",
              "    width: 32px;\n",
              "  }\n",
              "\n",
              "  .colab-df-quickchart:hover {\n",
              "    background-color: var(--hover-bg-color);\n",
              "    box-shadow: 0 1px 2px rgba(60, 64, 67, 0.3), 0 1px 3px 1px rgba(60, 64, 67, 0.15);\n",
              "    fill: var(--button-hover-fill-color);\n",
              "  }\n",
              "\n",
              "  .colab-df-quickchart-complete:disabled,\n",
              "  .colab-df-quickchart-complete:disabled:hover {\n",
              "    background-color: var(--disabled-bg-color);\n",
              "    fill: var(--disabled-fill-color);\n",
              "    box-shadow: none;\n",
              "  }\n",
              "\n",
              "  .colab-df-spinner {\n",
              "    border: 2px solid var(--fill-color);\n",
              "    border-color: transparent;\n",
              "    border-bottom-color: var(--fill-color);\n",
              "    animation:\n",
              "      spin 1s steps(1) infinite;\n",
              "  }\n",
              "\n",
              "  @keyframes spin {\n",
              "    0% {\n",
              "      border-color: transparent;\n",
              "      border-bottom-color: var(--fill-color);\n",
              "      border-left-color: var(--fill-color);\n",
              "    }\n",
              "    20% {\n",
              "      border-color: transparent;\n",
              "      border-left-color: var(--fill-color);\n",
              "      border-top-color: var(--fill-color);\n",
              "    }\n",
              "    30% {\n",
              "      border-color: transparent;\n",
              "      border-left-color: var(--fill-color);\n",
              "      border-top-color: var(--fill-color);\n",
              "      border-right-color: var(--fill-color);\n",
              "    }\n",
              "    40% {\n",
              "      border-color: transparent;\n",
              "      border-right-color: var(--fill-color);\n",
              "      border-top-color: var(--fill-color);\n",
              "    }\n",
              "    60% {\n",
              "      border-color: transparent;\n",
              "      border-right-color: var(--fill-color);\n",
              "    }\n",
              "    80% {\n",
              "      border-color: transparent;\n",
              "      border-right-color: var(--fill-color);\n",
              "      border-bottom-color: var(--fill-color);\n",
              "    }\n",
              "    90% {\n",
              "      border-color: transparent;\n",
              "      border-bottom-color: var(--fill-color);\n",
              "    }\n",
              "  }\n",
              "</style>\n",
              "\n",
              "  <script>\n",
              "    async function quickchart(key) {\n",
              "      const quickchartButtonEl =\n",
              "        document.querySelector('#' + key + ' button');\n",
              "      quickchartButtonEl.disabled = true;  // To prevent multiple clicks.\n",
              "      quickchartButtonEl.classList.add('colab-df-spinner');\n",
              "      try {\n",
              "        const charts = await google.colab.kernel.invokeFunction(\n",
              "            'suggestCharts', [key], {});\n",
              "      } catch (error) {\n",
              "        console.error('Error during call to suggestCharts:', error);\n",
              "      }\n",
              "      quickchartButtonEl.classList.remove('colab-df-spinner');\n",
              "      quickchartButtonEl.classList.add('colab-df-quickchart-complete');\n",
              "    }\n",
              "    (() => {\n",
              "      let quickchartButtonEl =\n",
              "        document.querySelector('#df-12699483-4487-43ab-a3ba-23671b4f9038 button');\n",
              "      quickchartButtonEl.style.display =\n",
              "        google.colab.kernel.accessAllowed ? 'block' : 'none';\n",
              "    })();\n",
              "  </script>\n",
              "</div>\n",
              "\n",
              "  <div id=\"id_565d7539-9c0a-4d45-8ebc-156612a590ac\">\n",
              "    <style>\n",
              "      .colab-df-generate {\n",
              "        background-color: #E8F0FE;\n",
              "        border: none;\n",
              "        border-radius: 50%;\n",
              "        cursor: pointer;\n",
              "        display: none;\n",
              "        fill: #1967D2;\n",
              "        height: 32px;\n",
              "        padding: 0 0 0 0;\n",
              "        width: 32px;\n",
              "      }\n",
              "\n",
              "      .colab-df-generate:hover {\n",
              "        background-color: #E2EBFA;\n",
              "        box-shadow: 0px 1px 2px rgba(60, 64, 67, 0.3), 0px 1px 3px 1px rgba(60, 64, 67, 0.15);\n",
              "        fill: #174EA6;\n",
              "      }\n",
              "\n",
              "      [theme=dark] .colab-df-generate {\n",
              "        background-color: #3B4455;\n",
              "        fill: #D2E3FC;\n",
              "      }\n",
              "\n",
              "      [theme=dark] .colab-df-generate:hover {\n",
              "        background-color: #434B5C;\n",
              "        box-shadow: 0px 1px 3px 1px rgba(0, 0, 0, 0.15);\n",
              "        filter: drop-shadow(0px 1px 2px rgba(0, 0, 0, 0.3));\n",
              "        fill: #FFFFFF;\n",
              "      }\n",
              "    </style>\n",
              "    <button class=\"colab-df-generate\" onclick=\"generateWithVariable('features')\"\n",
              "            title=\"Generate code using this dataframe.\"\n",
              "            style=\"display:none;\">\n",
              "\n",
              "  <svg xmlns=\"http://www.w3.org/2000/svg\" height=\"24px\"viewBox=\"0 0 24 24\"\n",
              "       width=\"24px\">\n",
              "    <path d=\"M7,19H8.4L18.45,9,17,7.55,7,17.6ZM5,21V16.75L18.45,3.32a2,2,0,0,1,2.83,0l1.4,1.43a1.91,1.91,0,0,1,.58,1.4,1.91,1.91,0,0,1-.58,1.4L9.25,21ZM18.45,9,17,7.55Zm-12,3A5.31,5.31,0,0,0,4.9,8.1,5.31,5.31,0,0,0,1,6.5,5.31,5.31,0,0,0,4.9,4.9,5.31,5.31,0,0,0,6.5,1,5.31,5.31,0,0,0,8.1,4.9,5.31,5.31,0,0,0,12,6.5,5.46,5.46,0,0,0,6.5,12Z\"/>\n",
              "  </svg>\n",
              "    </button>\n",
              "    <script>\n",
              "      (() => {\n",
              "      const buttonEl =\n",
              "        document.querySelector('#id_565d7539-9c0a-4d45-8ebc-156612a590ac button.colab-df-generate');\n",
              "      buttonEl.style.display =\n",
              "        google.colab.kernel.accessAllowed ? 'block' : 'none';\n",
              "\n",
              "      buttonEl.onclick = () => {\n",
              "        google.colab.notebook.generateWithVariable('features');\n",
              "      }\n",
              "      })();\n",
              "    </script>\n",
              "  </div>\n",
              "\n",
              "    </div>\n",
              "  </div>\n"
            ],
            "application/vnd.google.colaboratory.intrinsic+json": {
              "type": "dataframe",
              "variable_name": "features"
            }
          },
          "metadata": {},
          "execution_count": 6
        }
      ]
    },
    {
      "cell_type": "code",
      "source": [
        "X = features.drop('A_won', axis=1)\n",
        "y = features['A_won']\n",
        "\n",
        "X_train, X_test, y_train, y_test = train_test_split(X, y, test_size=0.2, random_state=42)\n",
        "\n",
        "scaler = StandardScaler()\n",
        "X_train = scaler.fit_transform(X_train)\n",
        "X_test = scaler.transform(X_test)\n",
        "\n",
        "model = LogisticRegression()\n",
        "model.fit(X_train, y_train)\n",
        "y_pred = model.predict(X_test)"
      ],
      "metadata": {
        "id": "x0OxDCX1rgXA"
      },
      "execution_count": 7,
      "outputs": []
    },
    {
      "cell_type": "code",
      "source": [
        "accuracy = accuracy_score(y_test, y_pred)\n",
        "print(\"Accuracy:\", accuracy)"
      ],
      "metadata": {
        "colab": {
          "base_uri": "https://localhost:8080/"
        },
        "id": "tBtSWlusLUOR",
        "outputId": "9dbdc489-c6fb-40e6-93d9-c35f42533a4a"
      },
      "execution_count": 8,
      "outputs": [
        {
          "output_type": "stream",
          "name": "stdout",
          "text": [
            "Accuracy: 0.7763685145823896\n"
          ]
        }
      ]
    },
    {
      "cell_type": "code",
      "source": [
        "def model_accuracy(model):\n",
        "    model.fit(X_train, y_train)\n",
        "    y_pred = model.predict(X_test)\n",
        "    accuracy = accuracy_score(y_test, y_pred)\n",
        "    return accuracy"
      ],
      "metadata": {
        "id": "bIftiaQSL2tE"
      },
      "execution_count": 9,
      "outputs": []
    },
    {
      "cell_type": "code",
      "source": [
        "param_grid = {'C': [0.001, 0.01, 0.1, 1, 10, 100, 1000] }\n",
        "\n",
        "model = GridSearchCV(LogisticRegression(penalty='l2'), param_grid)"
      ],
      "metadata": {
        "id": "A6XagFeTNiM9"
      },
      "execution_count": null,
      "outputs": []
    },
    {
      "cell_type": "code",
      "source": [
        "model_accuracy(model)"
      ],
      "metadata": {
        "colab": {
          "base_uri": "https://localhost:8080/"
        },
        "id": "Kt_-rQTsNTmZ",
        "outputId": "3ae1f4d4-1d59-46c1-a50b-ef45fdf9cbe2"
      },
      "execution_count": null,
      "outputs": [
        {
          "output_type": "execute_result",
          "data": {
            "text/plain": [
              "0.7727098505174397"
            ]
          },
          "metadata": {},
          "execution_count": 43
        }
      ]
    },
    {
      "cell_type": "code",
      "source": [
        "cross_val_score(model, X_train, y_train, cv=5).mean()"
      ],
      "metadata": {
        "colab": {
          "base_uri": "https://localhost:8080/"
        },
        "id": "mXHwq33FN4FL",
        "outputId": "8eabedb4-2dc4-4ca7-effa-6b4a722106ac"
      },
      "execution_count": null,
      "outputs": [
        {
          "output_type": "execute_result",
          "data": {
            "text/plain": [
              "0.773108584868679"
            ]
          },
          "metadata": {},
          "execution_count": 47
        }
      ]
    },
    {
      "cell_type": "code",
      "source": [
        "model.coef_"
      ],
      "metadata": {
        "colab": {
          "base_uri": "https://localhost:8080/"
        },
        "id": "ZglfScg4SB23",
        "outputId": "a331b140-6bff-4803-b4d3-daa277788de8"
      },
      "execution_count": null,
      "outputs": [
        {
          "output_type": "execute_result",
          "data": {
            "text/plain": [
              "array([[ 6.15968880e-02, -5.80097250e-02,  5.40997917e-01,\n",
              "        -5.30841466e-01, -2.20639864e-01,  2.42943303e-01,\n",
              "         7.45879767e-03,  1.03202710e-02, -8.76670757e-02,\n",
              "         6.60231158e-02,  8.85415739e-03,  7.26587660e-03,\n",
              "        -1.55220664e-01,  1.34256444e-01, -1.61261804e+00,\n",
              "         1.59611913e+00, -1.20230306e-02,  5.81273225e-03,\n",
              "        -4.88505872e-03,  4.88505872e-03,  8.85770306e-03,\n",
              "        -8.85770306e-03, -7.82631743e-03,  7.82631743e-03,\n",
              "        -6.12021786e-04,  6.12021786e-04]])"
            ]
          },
          "metadata": {},
          "execution_count": 114
        }
      ]
    },
    {
      "cell_type": "code",
      "source": [
        "# Predicting outcome based only on ranking\n",
        "correct = 0\n",
        "for i in range(len(features)):\n",
        "    if features.loc[i, 'A_rank'] > features.loc[i, 'B_rank'] and features.loc[i, 'A_won'] == 1:\n",
        "        correct += 1\n",
        "    elif features.loc[i, 'A_rank'] < features.loc[i, 'B_rank'] and features.loc[i, 'A_won'] == 0:\n",
        "        correct += 1\n",
        "    else:\n",
        "        pass\n",
        "\n",
        "print('Accuracy: ', correct/len(features))"
      ],
      "metadata": {
        "colab": {
          "base_uri": "https://localhost:8080/"
        },
        "id": "RmHE2NpEON4q",
        "outputId": "401cc726-c252-4e4c-ee27-03c1baee0e4b"
      },
      "execution_count": null,
      "outputs": [
        {
          "output_type": "stream",
          "name": "stdout",
          "text": [
            "Accuracy:  0.6568358258881904\n"
          ]
        }
      ]
    },
    {
      "cell_type": "code",
      "source": [
        "# Predicting outcome based only on Elo\n",
        "correct = 0\n",
        "for i in range(len(features)):\n",
        "    if features.loc[i, 'A_elo'] > features.loc[i, 'B_elo'] and features.loc[i, 'A_won'] == 1:\n",
        "        correct += 1\n",
        "    elif features.loc[i, 'A_elo'] < features.loc[i, 'B_elo'] and features.loc[i, 'A_won'] == 0:\n",
        "        correct += 1\n",
        "    else:\n",
        "        pass\n",
        "\n",
        "print('Accuracy: ', correct/len(features))"
      ],
      "metadata": {
        "colab": {
          "base_uri": "https://localhost:8080/"
        },
        "id": "fldLhGhZOr0W",
        "outputId": "2d4bb255-e4c3-4954-bca3-104e6f30f3c5"
      },
      "execution_count": null,
      "outputs": [
        {
          "output_type": "stream",
          "name": "stdout",
          "text": [
            "Accuracy:  0.3364670299803476\n"
          ]
        }
      ]
    },
    {
      "cell_type": "code",
      "source": [
        "# Predicting outcome based only on 12 month form\n",
        "correct = 0\n",
        "for i in range(len(features)):\n",
        "    if features.loc[i, 'A_12month_form'] > features.loc[i, 'B_12month_form'] and features.loc[i, 'A_won'] == 1:\n",
        "        correct += 1\n",
        "    elif features.loc[i, 'A_12month_form'] < features.loc[i, 'B_12month_form'] and features.loc[i, 'A_won'] == 0:\n",
        "        correct += 1\n",
        "    else:\n",
        "        pass\n",
        "\n",
        "print('Accuracy: ', correct/len(features))"
      ],
      "metadata": {
        "colab": {
          "base_uri": "https://localhost:8080/"
        },
        "id": "koAE4UaeO7rI",
        "outputId": "69f6bfef-7374-466d-acc6-078eeebae370"
      },
      "execution_count": null,
      "outputs": [
        {
          "output_type": "stream",
          "name": "stdout",
          "text": [
            "Accuracy:  0.27714747654954214\n"
          ]
        }
      ]
    },
    {
      "cell_type": "code",
      "source": [
        "features[['surface_hard', 'surface_carpet', 'surface_grass', 'surface_clay']] = features[['surface_hard', 'surface_carpet', 'surface_grass', 'surface_clay']].astype(int)"
      ],
      "metadata": {
        "id": "tOZue0R0lI9U"
      },
      "execution_count": 14,
      "outputs": []
    },
    {
      "cell_type": "code",
      "source": [
        "import torch\n",
        "import torch.nn as nn\n",
        "import torch.nn.functional as F\n",
        "\n",
        "import matplotlib.pyplot as plt\n",
        "%matplotlib inline"
      ],
      "metadata": {
        "id": "CvuFZ76Ch9FX"
      },
      "execution_count": 15,
      "outputs": []
    },
    {
      "cell_type": "code",
      "source": [
        "class Model(nn.Module):\n",
        "  def __init__(self, in_features=22, h1=24, h2=24, out_features=2):\n",
        "    super().__init__()\n",
        "    self.fc1 = nn.Linear(in_features, h1)\n",
        "    self.fc2 = nn.Linear(h1, h2)\n",
        "    self.out = nn.Linear(h2, out_features)\n",
        "\n",
        "  def forward(self, x):\n",
        "    x = F.relu(self.fc1(x))\n",
        "    x = F.relu(self.fc2(x))\n",
        "    x = self.out(x)\n",
        "\n",
        "    return x"
      ],
      "metadata": {
        "id": "ZctOBQ1-h_r8"
      },
      "execution_count": 16,
      "outputs": []
    },
    {
      "cell_type": "code",
      "source": [
        "model = Model()"
      ],
      "metadata": {
        "id": "QhJIneP7iATd"
      },
      "execution_count": 17,
      "outputs": []
    },
    {
      "cell_type": "code",
      "source": [
        "X = features.drop('A_won', axis=1)\n",
        "y = features['A_won']\n",
        "\n",
        "X = X.values\n",
        "y = y.values\n",
        "\n",
        "X_train, X_test, y_train, y_test = train_test_split(X, y, test_size=0.2, random_state=42)\n",
        "\n",
        "X_train = torch.FloatTensor(X_train)\n",
        "X_test = torch.FloatTensor(X_test)\n",
        "\n",
        "y_train = torch.LongTensor(y_train)\n",
        "y_test = torch.LongTensor(y_test)"
      ],
      "metadata": {
        "id": "ah1kGh0tiLQP"
      },
      "execution_count": 18,
      "outputs": []
    },
    {
      "cell_type": "code",
      "source": [
        "criterion = nn.CrossEntropyLoss()\n",
        "optimizer = torch.optim.Adam(model.parameters(), lr=0.001)\n",
        "\n",
        "epochs = 1000\n",
        "losses = []\n",
        "for i in range(epochs):\n",
        "  y_pred = model.forward(X_train)\n",
        "  loss = criterion(y_pred, y_train)\n",
        "  if loss < 5:\n",
        "    losses.append(loss.detach().numpy())\n",
        "\n",
        "  if i % 50 == 0:\n",
        "    print(f'Epoch: {i} and loss: {loss}')\n",
        "\n",
        "  optimizer.zero_grad()\n",
        "  loss.backward()\n",
        "  optimizer.step()\n"
      ],
      "metadata": {
        "colab": {
          "base_uri": "https://localhost:8080/"
        },
        "id": "hWEMQYniiLsR",
        "outputId": "c25bf6ff-0748-4f52-95c3-82d0b3dc8cb5"
      },
      "execution_count": 19,
      "outputs": [
        {
          "output_type": "stream",
          "name": "stdout",
          "text": [
            "Epoch: 0 and loss: 35.63643264770508\n",
            "Epoch: 50 and loss: 1.168878197669983\n",
            "Epoch: 100 and loss: 0.5128393173217773\n",
            "Epoch: 150 and loss: 0.2706579267978668\n",
            "Epoch: 200 and loss: 0.19062015414237976\n",
            "Epoch: 250 and loss: 0.14095249772071838\n",
            "Epoch: 300 and loss: 0.14481361210346222\n",
            "Epoch: 350 and loss: 0.09397082775831223\n",
            "Epoch: 400 and loss: 0.11147671937942505\n",
            "Epoch: 450 and loss: 0.08300569653511047\n",
            "Epoch: 500 and loss: 0.0715143010020256\n",
            "Epoch: 550 and loss: 0.07581297308206558\n",
            "Epoch: 600 and loss: 0.08835437148809433\n",
            "Epoch: 650 and loss: 0.06386870890855789\n",
            "Epoch: 700 and loss: 0.07219070196151733\n",
            "Epoch: 750 and loss: 0.07018814980983734\n",
            "Epoch: 800 and loss: 0.054967232048511505\n",
            "Epoch: 850 and loss: 0.05036136135458946\n",
            "Epoch: 900 and loss: 0.04794720932841301\n",
            "Epoch: 950 and loss: 0.04883463680744171\n"
          ]
        }
      ]
    },
    {
      "cell_type": "code",
      "source": [
        "plt.plot(range(len(losses)), losses)\n",
        "plt.ylabel(\"loss/error\")\n",
        "plt.xlabel('Epoch')"
      ],
      "metadata": {
        "colab": {
          "base_uri": "https://localhost:8080/",
          "height": 467
        },
        "id": "68RhymNLjJwm",
        "outputId": "86e62c9a-cbee-41fe-f6f7-adbc81b28917"
      },
      "execution_count": 22,
      "outputs": [
        {
          "output_type": "execute_result",
          "data": {
            "text/plain": [
              "Text(0.5, 0, 'Epoch')"
            ]
          },
          "metadata": {},
          "execution_count": 22
        },
        {
          "output_type": "display_data",
          "data": {
            "text/plain": [
              "<Figure size 640x480 with 1 Axes>"
            ],
            "image/png": "[encoded data removed]"
          },
          "metadata": {}
        }
      ]
    },
    {
      "cell_type": "code",
      "source": [
        "with torch.no_grad():\n",
        "  y_eval = model.forward(X_test)\n",
        "  loss = criterion(y_eval, y_test)\n",
        "\n",
        "print(f'Loss: {loss}')\n",
        "print(f'Accuracy: {accuracy_score(y_test, torch.argmax(y_eval, dim=1))}')\n"
      ],
      "metadata": {
        "colab": {
          "base_uri": "https://localhost:8080/"
        },
        "id": "FildsAVKjwFA",
        "outputId": "e6aab4e7-6a0e-4b7f-90ec-afb69b3baa98"
      },
      "execution_count": 23,
      "outputs": [
        {
          "output_type": "stream",
          "name": "stdout",
          "text": [
            "Loss: 0.1664259284734726\n",
            "Accuracy: 0.9221575664657305\n"
          ]
        }
      ]
    }
  ]
}