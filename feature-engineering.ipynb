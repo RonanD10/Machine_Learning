{
  "nbformat": 4,
  "nbformat_minor": 0,
  "metadata": {
    "colab": {
      "provenance": []
    },
    "kernelspec": {
      "name": "python3",
      "display_name": "Python 3"
    },
    "language_info": {
      "name": "python"
    }
  },
  "cells": [
    {
      "cell_type": "code",
      "source": [
        "import pandas as pd\n",
        "import numpy as np\n",
        "import matplotlib.pyplot as plt\n",
        "import seaborn as sns\n",
        "from IPython.display import clear_output\n",
        "import random\n",
        "\n",
        "pd.set_option('display.max_columns', None)\n",
        "pd.set_option('display.max_rows', 100)\n",
        "\n",
        "from google.colab import drive\n",
        "drive.mount('/content/drive')"
      ],
      "metadata": {
        "id": "8HOFRHzUX0Gc",
        "colab": {
          "base_uri": "https://localhost:8080/"
        },
        "outputId": "379ca319-ec15-42fa-80e9-2867332234f5"
      },
      "execution_count": null,
      "outputs": [
        {
          "output_type": "stream",
          "name": "stdout",
          "text": [
            "Mounted at /content/drive\n"
          ]
        }
      ]
    },
    {
      "cell_type": "code",
      "source": [
        "ALL_MATCHES = pd.read_csv('/content/drive/MyDrive/Colab Notebooks/Tennis Project/all_matches.csv')\n",
        "all_players = pd.read_csv('/content/drive/MyDrive/Colab Notebooks/Tennis Project/all_players.csv')"
      ],
      "metadata": {
        "colab": {
          "base_uri": "https://localhost:8080/"
        },
        "id": "inlBxAsMXwsv",
        "outputId": "4f6c0f74-b49a-452b-cd5f-11c6c722ce27"
      },
      "execution_count": null,
      "outputs": [
        {
          "output_type": "stream",
          "name": "stderr",
          "text": [
            "<ipython-input-3-4c62233f470e>:1: DtypeWarning: Columns (9,17) have mixed types. Specify dtype option on import or set low_memory=False.\n",
            "  ALL_MATCHES = pd.read_csv('/content/drive/MyDrive/Colab Notebooks/Tennis Project/all_matches.csv')\n"
          ]
        }
      ]
    },
    {
      "cell_type": "code",
      "source": [
        "# Table of features for model\n",
        "# Engineer feature by feature below\n",
        "\n",
        "# Drop unknown surface rows\n",
        "ALL_MATCHES = ALL_MATCHES[ALL_MATCHES['surface'] != 'unknown']\n",
        "\n",
        "# Drop unknown ranking rows\n",
        "ALL_MATCHES = ALL_MATCHES[ALL_MATCHES['winner_rank'].isnull() == False]\n",
        "ALL_MATCHES = ALL_MATCHES[ALL_MATCHES['loser_rank'].isnull() == False]\n",
        "ALL_MATCHES = ALL_MATCHES.reset_index(drop=True)\n",
        "\n",
        "features = ALL_MATCHES[['surface', 'winner_rank', 'loser_rank']]"
      ],
      "metadata": {
        "id": "KA3amIfNdees"
      },
      "execution_count": null,
      "outputs": []
    },
    {
      "cell_type": "code",
      "source": [
        "features"
      ],
      "metadata": {
        "colab": {
          "base_uri": "https://localhost:8080/",
          "height": 424
        },
        "id": "22hroupvjllc",
        "outputId": "45478b30-d9b3-40ee-84e4-d90e37395966"
      },
      "execution_count": null,
      "outputs": [
        {
          "output_type": "execute_result",
          "data": {
            "text/plain": [
              "       surface  winner_rank  loser_rank\n",
              "0        grass          3.0        23.0\n",
              "1        grass         22.0        30.0\n",
              "2        grass         55.0        58.0\n",
              "3        grass         15.0        39.0\n",
              "4        grass         18.0        97.0\n",
              "...        ...          ...         ...\n",
              "144634    clay          7.0        56.0\n",
              "144635    clay         29.0        47.0\n",
              "144636    clay        117.0        19.0\n",
              "144637    clay          7.0        44.0\n",
              "144638    clay        117.0        29.0\n",
              "\n",
              "[144639 rows x 3 columns]"
            ],
            "text/html": [
              "\n",
              "  <div id=\"df-9f43faa3-0767-4be2-95a9-84fdef1747b0\" class=\"colab-df-container\">\n",
              "    <div>\n",
              "<style scoped>\n",
              "    .dataframe tbody tr th:only-of-type {\n",
              "        vertical-align: middle;\n",
              "    }\n",
              "\n",
              "    .dataframe tbody tr th {\n",
              "        vertical-align: top;\n",
              "    }\n",
              "\n",
              "    .dataframe thead th {\n",
              "        text-align: right;\n",
              "    }\n",
              "</style>\n",
              "<table border=\"1\" class=\"dataframe\">\n",
              "  <thead>\n",
              "    <tr style=\"text-align: right;\">\n",
              "      <th></th>\n",
              "      <th>surface</th>\n",
              "      <th>winner_rank</th>\n",
              "      <th>loser_rank</th>\n",
              "    </tr>\n",
              "  </thead>\n",
              "  <tbody>\n",
              "    <tr>\n",
              "      <th>0</th>\n",
              "      <td>grass</td>\n",
              "      <td>3.0</td>\n",
              "      <td>23.0</td>\n",
              "    </tr>\n",
              "    <tr>\n",
              "      <th>1</th>\n",
              "      <td>grass</td>\n",
              "      <td>22.0</td>\n",
              "      <td>30.0</td>\n",
              "    </tr>\n",
              "    <tr>\n",
              "      <th>2</th>\n",
              "      <td>grass</td>\n",
              "      <td>55.0</td>\n",
              "      <td>58.0</td>\n",
              "    </tr>\n",
              "    <tr>\n",
              "      <th>3</th>\n",
              "      <td>grass</td>\n",
              "      <td>15.0</td>\n",
              "      <td>39.0</td>\n",
              "    </tr>\n",
              "    <tr>\n",
              "      <th>4</th>\n",
              "      <td>grass</td>\n",
              "      <td>18.0</td>\n",
              "      <td>97.0</td>\n",
              "    </tr>\n",
              "    <tr>\n",
              "      <th>...</th>\n",
              "      <td>...</td>\n",
              "      <td>...</td>\n",
              "      <td>...</td>\n",
              "    </tr>\n",
              "    <tr>\n",
              "      <th>144634</th>\n",
              "      <td>clay</td>\n",
              "      <td>7.0</td>\n",
              "      <td>56.0</td>\n",
              "    </tr>\n",
              "    <tr>\n",
              "      <th>144635</th>\n",
              "      <td>clay</td>\n",
              "      <td>29.0</td>\n",
              "      <td>47.0</td>\n",
              "    </tr>\n",
              "    <tr>\n",
              "      <th>144636</th>\n",
              "      <td>clay</td>\n",
              "      <td>117.0</td>\n",
              "      <td>19.0</td>\n",
              "    </tr>\n",
              "    <tr>\n",
              "      <th>144637</th>\n",
              "      <td>clay</td>\n",
              "      <td>7.0</td>\n",
              "      <td>44.0</td>\n",
              "    </tr>\n",
              "    <tr>\n",
              "      <th>144638</th>\n",
              "      <td>clay</td>\n",
              "      <td>117.0</td>\n",
              "      <td>29.0</td>\n",
              "    </tr>\n",
              "  </tbody>\n",
              "</table>\n",
              "<p>144639 rows × 3 columns</p>\n",
              "</div>\n",
              "    <div class=\"colab-df-buttons\">\n",
              "\n",
              "  <div class=\"colab-df-container\">\n",
              "    <button class=\"colab-df-convert\" onclick=\"convertToInteractive('df-9f43faa3-0767-4be2-95a9-84fdef1747b0')\"\n",
              "            title=\"Convert this dataframe to an interactive table.\"\n",
              "            style=\"display:none;\">\n",
              "\n",
              "  <svg xmlns=\"http://www.w3.org/2000/svg\" height=\"24px\" viewBox=\"0 -960 960 960\">\n",
              "    <path d=\"M120-120v-720h720v720H120Zm60-500h600v-160H180v160Zm220 220h160v-160H400v160Zm0 220h160v-160H400v160ZM180-400h160v-160H180v160Zm440 0h160v-160H620v160ZM180-180h160v-160H180v160Zm440 0h160v-160H620v160Z\"/>\n",
              "  </svg>\n",
              "    </button>\n",
              "\n",
              "  <style>\n",
              "    .colab-df-container {\n",
              "      display:flex;\n",
              "      gap: 12px;\n",
              "    }\n",
              "\n",
              "    .colab-df-convert {\n",
              "      background-color: #E8F0FE;\n",
              "      border: none;\n",
              "      border-radius: 50%;\n",
              "      cursor: pointer;\n",
              "      display: none;\n",
              "      fill: #1967D2;\n",
              "      height: 32px;\n",
              "      padding: 0 0 0 0;\n",
              "      width: 32px;\n",
              "    }\n",
              "\n",
              "    .colab-df-convert:hover {\n",
              "      background-color: #E2EBFA;\n",
              "      box-shadow: 0px 1px 2px rgba(60, 64, 67, 0.3), 0px 1px 3px 1px rgba(60, 64, 67, 0.15);\n",
              "      fill: #174EA6;\n",
              "    }\n",
              "\n",
              "    .colab-df-buttons div {\n",
              "      margin-bottom: 4px;\n",
              "    }\n",
              "\n",
              "    [theme=dark] .colab-df-convert {\n",
              "      background-color: #3B4455;\n",
              "      fill: #D2E3FC;\n",
              "    }\n",
              "\n",
              "    [theme=dark] .colab-df-convert:hover {\n",
              "      background-color: #434B5C;\n",
              "      box-shadow: 0px 1px 3px 1px rgba(0, 0, 0, 0.15);\n",
              "      filter: drop-shadow(0px 1px 2px rgba(0, 0, 0, 0.3));\n",
              "      fill: #FFFFFF;\n",
              "    }\n",
              "  </style>\n",
              "\n",
              "    <script>\n",
              "      const buttonEl =\n",
              "        document.querySelector('#df-9f43faa3-0767-4be2-95a9-84fdef1747b0 button.colab-df-convert');\n",
              "      buttonEl.style.display =\n",
              "        google.colab.kernel.accessAllowed ? 'block' : 'none';\n",
              "\n",
              "      async function convertToInteractive(key) {\n",
              "        const element = document.querySelector('#df-9f43faa3-0767-4be2-95a9-84fdef1747b0');\n",
              "        const dataTable =\n",
              "          await google.colab.kernel.invokeFunction('convertToInteractive',\n",
              "                                                    [key], {});\n",
              "        if (!dataTable) return;\n",
              "\n",
              "        const docLinkHtml = 'Like what you see? Visit the ' +\n",
              "          '<a target=\"_blank\" href=https://colab.research.google.com/notebooks/data_table.ipynb>data table notebook</a>'\n",
              "          + ' to learn more about interactive tables.';\n",
              "        element.innerHTML = '';\n",
              "        dataTable['output_type'] = 'display_data';\n",
              "        await google.colab.output.renderOutput(dataTable, element);\n",
              "        const docLink = document.createElement('div');\n",
              "        docLink.innerHTML = docLinkHtml;\n",
              "        element.appendChild(docLink);\n",
              "      }\n",
              "    </script>\n",
              "  </div>\n",
              "\n",
              "\n",
              "<div id=\"df-39de6018-8865-46a5-bebf-a022421017e8\">\n",
              "  <button class=\"colab-df-quickchart\" onclick=\"quickchart('df-39de6018-8865-46a5-bebf-a022421017e8')\"\n",
              "            title=\"Suggest charts\"\n",
              "            style=\"display:none;\">\n",
              "\n",
              "<svg xmlns=\"http://www.w3.org/2000/svg\" height=\"24px\"viewBox=\"0 0 24 24\"\n",
              "     width=\"24px\">\n",
              "    <g>\n",
              "        <path d=\"M19 3H5c-1.1 0-2 .9-2 2v14c0 1.1.9 2 2 2h14c1.1 0 2-.9 2-2V5c0-1.1-.9-2-2-2zM9 17H7v-7h2v7zm4 0h-2V7h2v10zm4 0h-2v-4h2v4z\"/>\n",
              "    </g>\n",
              "</svg>\n",
              "  </button>\n",
              "\n",
              "<style>\n",
              "  .colab-df-quickchart {\n",
              "      --bg-color: #E8F0FE;\n",
              "      --fill-color: #1967D2;\n",
              "      --hover-bg-color: #E2EBFA;\n",
              "      --hover-fill-color: #174EA6;\n",
              "      --disabled-fill-color: #AAA;\n",
              "      --disabled-bg-color: #DDD;\n",
              "  }\n",
              "\n",
              "  [theme=dark] .colab-df-quickchart {\n",
              "      --bg-color: #3B4455;\n",
              "      --fill-color: #D2E3FC;\n",
              "      --hover-bg-color: #434B5C;\n",
              "      --hover-fill-color: #FFFFFF;\n",
              "      --disabled-bg-color: #3B4455;\n",
              "      --disabled-fill-color: #666;\n",
              "  }\n",
              "\n",
              "  .colab-df-quickchart {\n",
              "    background-color: var(--bg-color);\n",
              "    border: none;\n",
              "    border-radius: 50%;\n",
              "    cursor: pointer;\n",
              "    display: none;\n",
              "    fill: var(--fill-color);\n",
              "    height: 32px;\n",
              "    padding: 0;\n",
              "    width: 32px;\n",
              "  }\n",
              "\n",
              "  .colab-df-quickchart:hover {\n",
              "    background-color: var(--hover-bg-color);\n",
              "    box-shadow: 0 1px 2px rgba(60, 64, 67, 0.3), 0 1px 3px 1px rgba(60, 64, 67, 0.15);\n",
              "    fill: var(--button-hover-fill-color);\n",
              "  }\n",
              "\n",
              "  .colab-df-quickchart-complete:disabled,\n",
              "  .colab-df-quickchart-complete:disabled:hover {\n",
              "    background-color: var(--disabled-bg-color);\n",
              "    fill: var(--disabled-fill-color);\n",
              "    box-shadow: none;\n",
              "  }\n",
              "\n",
              "  .colab-df-spinner {\n",
              "    border: 2px solid var(--fill-color);\n",
              "    border-color: transparent;\n",
              "    border-bottom-color: var(--fill-color);\n",
              "    animation:\n",
              "      spin 1s steps(1) infinite;\n",
              "  }\n",
              "\n",
              "  @keyframes spin {\n",
              "    0% {\n",
              "      border-color: transparent;\n",
              "      border-bottom-color: var(--fill-color);\n",
              "      border-left-color: var(--fill-color);\n",
              "    }\n",
              "    20% {\n",
              "      border-color: transparent;\n",
              "      border-left-color: var(--fill-color);\n",
              "      border-top-color: var(--fill-color);\n",
              "    }\n",
              "    30% {\n",
              "      border-color: transparent;\n",
              "      border-left-color: var(--fill-color);\n",
              "      border-top-color: var(--fill-color);\n",
              "      border-right-color: var(--fill-color);\n",
              "    }\n",
              "    40% {\n",
              "      border-color: transparent;\n",
              "      border-right-color: var(--fill-color);\n",
              "      border-top-color: var(--fill-color);\n",
              "    }\n",
              "    60% {\n",
              "      border-color: transparent;\n",
              "      border-right-color: var(--fill-color);\n",
              "    }\n",
              "    80% {\n",
              "      border-color: transparent;\n",
              "      border-right-color: var(--fill-color);\n",
              "      border-bottom-color: var(--fill-color);\n",
              "    }\n",
              "    90% {\n",
              "      border-color: transparent;\n",
              "      border-bottom-color: var(--fill-color);\n",
              "    }\n",
              "  }\n",
              "</style>\n",
              "\n",
              "  <script>\n",
              "    async function quickchart(key) {\n",
              "      const quickchartButtonEl =\n",
              "        document.querySelector('#' + key + ' button');\n",
              "      quickchartButtonEl.disabled = true;  // To prevent multiple clicks.\n",
              "      quickchartButtonEl.classList.add('colab-df-spinner');\n",
              "      try {\n",
              "        const charts = await google.colab.kernel.invokeFunction(\n",
              "            'suggestCharts', [key], {});\n",
              "      } catch (error) {\n",
              "        console.error('Error during call to suggestCharts:', error);\n",
              "      }\n",
              "      quickchartButtonEl.classList.remove('colab-df-spinner');\n",
              "      quickchartButtonEl.classList.add('colab-df-quickchart-complete');\n",
              "    }\n",
              "    (() => {\n",
              "      let quickchartButtonEl =\n",
              "        document.querySelector('#df-39de6018-8865-46a5-bebf-a022421017e8 button');\n",
              "      quickchartButtonEl.style.display =\n",
              "        google.colab.kernel.accessAllowed ? 'block' : 'none';\n",
              "    })();\n",
              "  </script>\n",
              "</div>\n",
              "\n",
              "  <div id=\"id_ec639bf9-4a9b-4e0a-92cf-48a9e5feaa18\">\n",
              "    <style>\n",
              "      .colab-df-generate {\n",
              "        background-color: #E8F0FE;\n",
              "        border: none;\n",
              "        border-radius: 50%;\n",
              "        cursor: pointer;\n",
              "        display: none;\n",
              "        fill: #1967D2;\n",
              "        height: 32px;\n",
              "        padding: 0 0 0 0;\n",
              "        width: 32px;\n",
              "      }\n",
              "\n",
              "      .colab-df-generate:hover {\n",
              "        background-color: #E2EBFA;\n",
              "        box-shadow: 0px 1px 2px rgba(60, 64, 67, 0.3), 0px 1px 3px 1px rgba(60, 64, 67, 0.15);\n",
              "        fill: #174EA6;\n",
              "      }\n",
              "\n",
              "      [theme=dark] .colab-df-generate {\n",
              "        background-color: #3B4455;\n",
              "        fill: #D2E3FC;\n",
              "      }\n",
              "\n",
              "      [theme=dark] .colab-df-generate:hover {\n",
              "        background-color: #434B5C;\n",
              "        box-shadow: 0px 1px 3px 1px rgba(0, 0, 0, 0.15);\n",
              "        filter: drop-shadow(0px 1px 2px rgba(0, 0, 0, 0.3));\n",
              "        fill: #FFFFFF;\n",
              "      }\n",
              "    </style>\n",
              "    <button class=\"colab-df-generate\" onclick=\"generateWithVariable('features')\"\n",
              "            title=\"Generate code using this dataframe.\"\n",
              "            style=\"display:none;\">\n",
              "\n",
              "  <svg xmlns=\"http://www.w3.org/2000/svg\" height=\"24px\"viewBox=\"0 0 24 24\"\n",
              "       width=\"24px\">\n",
              "    <path d=\"M7,19H8.4L18.45,9,17,7.55,7,17.6ZM5,21V16.75L18.45,3.32a2,2,0,0,1,2.83,0l1.4,1.43a1.91,1.91,0,0,1,.58,1.4,1.91,1.91,0,0,1-.58,1.4L9.25,21ZM18.45,9,17,7.55Zm-12,3A5.31,5.31,0,0,0,4.9,8.1,5.31,5.31,0,0,0,1,6.5,5.31,5.31,0,0,0,4.9,4.9,5.31,5.31,0,0,0,6.5,1,5.31,5.31,0,0,0,8.1,4.9,5.31,5.31,0,0,0,12,6.5,5.46,5.46,0,0,0,6.5,12Z\"/>\n",
              "  </svg>\n",
              "    </button>\n",
              "    <script>\n",
              "      (() => {\n",
              "      const buttonEl =\n",
              "        document.querySelector('#id_ec639bf9-4a9b-4e0a-92cf-48a9e5feaa18 button.colab-df-generate');\n",
              "      buttonEl.style.display =\n",
              "        google.colab.kernel.accessAllowed ? 'block' : 'none';\n",
              "\n",
              "      buttonEl.onclick = () => {\n",
              "        google.colab.notebook.generateWithVariable('features');\n",
              "      }\n",
              "      })();\n",
              "    </script>\n",
              "  </div>\n",
              "\n",
              "    </div>\n",
              "  </div>\n"
            ],
            "application/vnd.google.colaboratory.intrinsic+json": {
              "type": "dataframe",
              "variable_name": "features"
            }
          },
          "metadata": {},
          "execution_count": 4
        }
      ]
    },
    {
      "cell_type": "code",
      "source": [
        "all_players.info()"
      ],
      "metadata": {
        "colab": {
          "base_uri": "https://localhost:8080/"
        },
        "id": "XNbc3KVJojai",
        "outputId": "8bf8fd97-904f-41e0-f707-b984fd2eb2f5"
      },
      "execution_count": null,
      "outputs": [
        {
          "output_type": "stream",
          "name": "stdout",
          "text": [
            "<class 'pandas.core.frame.DataFrame'>\n",
            "RangeIndex: 65019 entries, 0 to 65018\n",
            "Data columns (total 12 columns):\n",
            " #   Column       Non-Null Count  Dtype  \n",
            "---  ------       --------------  -----  \n",
            " 0   player_id    65019 non-null  int64  \n",
            " 1   hand         65002 non-null  object \n",
            " 2   dob          46447 non-null  float64\n",
            " 3   ioc          64343 non-null  object \n",
            " 4   height       2819 non-null   float64\n",
            " 5   wikidata_id  4894 non-null   object \n",
            " 6   name         64134 non-null  object \n",
            " 7   hard_elo     65019 non-null  float64\n",
            " 8   clay_elo     65019 non-null  float64\n",
            " 9   grass_elo    65019 non-null  float64\n",
            " 10  carpet_elo   65019 non-null  float64\n",
            " 11  overall_elo  65019 non-null  float64\n",
            "dtypes: float64(7), int64(1), object(4)\n",
            "memory usage: 6.0+ MB\n"
          ]
        }
      ]
    },
    {
      "cell_type": "code",
      "source": [
        "# Surface Elo, Elo_surface_overall_avg\n",
        "\n",
        "features['winner_elo_surface'] = 0\n",
        "features['loser_elo_surface'] = 0\n",
        "features['winner_elo'] = ALL_MATCHES['winner_elo_before']\n",
        "features['loser_elo'] = ALL_MATCHES['loser_elo_before']\n",
        "\n",
        "for i in range(len(ALL_MATCHES)):\n",
        "    surface = ALL_MATCHES.loc[i, 'surface']\n",
        "    features.at[i, 'winner_elo_surface'] = ALL_MATCHES.loc[i, f'winner_{surface}_elo_before']\n",
        "    features.at[i, 'loser_elo_surface'] = ALL_MATCHES.loc[i, f'loser_{surface}_elo_before']\n",
        "\n",
        "features['winner_avged_elo'] = (features['winner_elo_surface'] + features['winner_elo']) / 2\n",
        "features['loser_avged_elo'] = (features['loser_elo_surface'] + features['loser_elo']) / 2"
      ],
      "metadata": {
        "colab": {
          "base_uri": "https://localhost:8080/"
        },
        "id": "EzO5EjjdgFBP",
        "outputId": "67125f90-5fa2-485b-9922-2f2ca4c158c1"
      },
      "execution_count": null,
      "outputs": [
        {
          "output_type": "stream",
          "name": "stderr",
          "text": [
            "<ipython-input-5-309a8245bf48>:3: SettingWithCopyWarning: \n",
            "A value is trying to be set on a copy of a slice from a DataFrame.\n",
            "Try using .loc[row_indexer,col_indexer] = value instead\n",
            "\n",
            "See the caveats in the documentation: https://pandas.pydata.org/pandas-docs/stable/user_guide/indexing.html#returning-a-view-versus-a-copy\n",
            "  features['winner_elo_surface'] = 0\n",
            "<ipython-input-5-309a8245bf48>:4: SettingWithCopyWarning: \n",
            "A value is trying to be set on a copy of a slice from a DataFrame.\n",
            "Try using .loc[row_indexer,col_indexer] = value instead\n",
            "\n",
            "See the caveats in the documentation: https://pandas.pydata.org/pandas-docs/stable/user_guide/indexing.html#returning-a-view-versus-a-copy\n",
            "  features['loser_elo_surface'] = 0\n",
            "<ipython-input-5-309a8245bf48>:5: SettingWithCopyWarning: \n",
            "A value is trying to be set on a copy of a slice from a DataFrame.\n",
            "Try using .loc[row_indexer,col_indexer] = value instead\n",
            "\n",
            "See the caveats in the documentation: https://pandas.pydata.org/pandas-docs/stable/user_guide/indexing.html#returning-a-view-versus-a-copy\n",
            "  features['winner_elo'] = ALL_MATCHES['winner_elo_before']\n",
            "<ipython-input-5-309a8245bf48>:6: SettingWithCopyWarning: \n",
            "A value is trying to be set on a copy of a slice from a DataFrame.\n",
            "Try using .loc[row_indexer,col_indexer] = value instead\n",
            "\n",
            "See the caveats in the documentation: https://pandas.pydata.org/pandas-docs/stable/user_guide/indexing.html#returning-a-view-versus-a-copy\n",
            "  features['loser_elo'] = ALL_MATCHES['loser_elo_before']\n",
            "<ipython-input-5-309a8245bf48>:10: FutureWarning: Setting an item of incompatible dtype is deprecated and will raise in a future error of pandas. Value '1988.523' has dtype incompatible with int64, please explicitly cast to a compatible dtype first.\n",
            "  features.at[i, 'winner_elo_surface'] = ALL_MATCHES.loc[i, f'winner_{surface}_elo_before']\n",
            "<ipython-input-5-309a8245bf48>:11: FutureWarning: Setting an item of incompatible dtype is deprecated and will raise in a future error of pandas. Value '1644.77' has dtype incompatible with int64, please explicitly cast to a compatible dtype first.\n",
            "  features.at[i, 'loser_elo_surface'] = ALL_MATCHES.loc[i, f'loser_{surface}_elo_before']\n",
            "<ipython-input-5-309a8245bf48>:13: SettingWithCopyWarning: \n",
            "A value is trying to be set on a copy of a slice from a DataFrame.\n",
            "Try using .loc[row_indexer,col_indexer] = value instead\n",
            "\n",
            "See the caveats in the documentation: https://pandas.pydata.org/pandas-docs/stable/user_guide/indexing.html#returning-a-view-versus-a-copy\n",
            "  features['winner_avged_elo'] = (features['winner_elo_surface'] + features['winner_elo']) / 2\n",
            "<ipython-input-5-309a8245bf48>:14: SettingWithCopyWarning: \n",
            "A value is trying to be set on a copy of a slice from a DataFrame.\n",
            "Try using .loc[row_indexer,col_indexer] = value instead\n",
            "\n",
            "See the caveats in the documentation: https://pandas.pydata.org/pandas-docs/stable/user_guide/indexing.html#returning-a-view-versus-a-copy\n",
            "  features['loser_avged_elo'] = (features['loser_elo_surface'] + features['loser_elo']) / 2\n"
          ]
        }
      ]
    },
    {
      "cell_type": "code",
      "source": [
        "# h2h functions\n",
        "\n",
        "def h2h(p1_id, p2_id, i):\n",
        "    \"\"\"\n",
        "    Returns p1 wins, p2 wins prior to match\n",
        "    \"\"\"\n",
        "    df = ALL_MATCHES.iloc[:i]\n",
        "    p1_wins = len(df[(df['winner_id'] == p1_id) & (df['loser_id'] == p2_id)])\n",
        "    p2_wins = len(df[(df['winner_id'] == p2_id) & (df['loser_id'] == p1_id)])\n",
        "\n",
        "    return p1_wins, p2_wins\n",
        "\n",
        "\n",
        "def surface_h2h(p1_id, p2_id, surface, i):\n",
        "    \"\"\"\n",
        "    Returns surface p1 wins, p2 wins prior to match\n",
        "    \"\"\"\n",
        "    df = ALL_MATCHES.iloc[:i]\n",
        "    p1_wins = len(df[(df['winner_id'] == p1_id) & (df['loser_id'] == p2_id) & (df['surface'] == surface)])\n",
        "    p2_wins = len(df[(df['winner_id'] == p2_id) & (df['loser_id'] == p1_id) & (df['surface'] == surface)])\n",
        "\n",
        "    return p1_wins, p2_wins"
      ],
      "metadata": {
        "id": "kJduF9RVQCLh"
      },
      "execution_count": null,
      "outputs": []
    },
    {
      "cell_type": "code",
      "source": [
        "# Add h2h\n",
        "\n",
        "features['winner_wins'] = 0\n",
        "features['loser_wins'] = 0\n",
        "\n",
        "for i in range(len(ALL_MATCHES)):\n",
        "    if i % 1000 == 0:\n",
        "        clear_output()\n",
        "        print(i/len(ALL_MATCHES) * 100, ' %')\n",
        "    winner_id = ALL_MATCHES.loc[i, 'winner_id']\n",
        "    loser_id = ALL_MATCHES.loc[i, 'loser_id']\n",
        "    winner_wins, loser_wins = h2h(winner_id, loser_id, i)\n",
        "    features.at[i, 'winner_wins'] = winner_wins\n",
        "    features.at[i, 'loser_wins'] = loser_wins"
      ],
      "metadata": {
        "colab": {
          "base_uri": "https://localhost:8080/"
        },
        "id": "jrA-oAOLteY5",
        "outputId": "60d37a51-dd67-45ae-cced-14cdf08b1199"
      },
      "execution_count": null,
      "outputs": [
        {
          "output_type": "stream",
          "name": "stdout",
          "text": [
            "99.55821044116732  %\n"
          ]
        }
      ]
    },
    {
      "cell_type": "code",
      "source": [
        "# Add surface h2h\n",
        "\n",
        "features['winner_wins_surface'] = 0\n",
        "features['loser_wins_surface'] = 0\n",
        "\n",
        "for i in range(len(ALL_MATCHES)):\n",
        "    if i % 1000 == 0:\n",
        "        clear_output()\n",
        "        print(np.round(i/len(ALL_MATCHES) * 100, 1), ' %')\n",
        "    winner_id = ALL_MATCHES.loc[i, 'winner_id']\n",
        "    loser_id = ALL_MATCHES.loc[i, 'loser_id']\n",
        "    surface = ALL_MATCHES.loc[i, 'surface']\n",
        "    winner_wins, loser_wins = surface_h2h(winner_id, loser_id, surface, i)\n",
        "    features.at[i, 'winner_wins_surface'] = winner_wins\n",
        "    features.at[i, 'loser_wins_surface'] = loser_wins"
      ],
      "metadata": {
        "colab": {
          "base_uri": "https://localhost:8080/"
        },
        "id": "etMfcarRWAJQ",
        "outputId": "3586bebb-9714-4e55-d416-1703bb2a3298"
      },
      "execution_count": null,
      "outputs": [
        {
          "output_type": "stream",
          "name": "stdout",
          "text": [
            "99.6  %\n"
          ]
        }
      ]
    },
    {
      "cell_type": "code",
      "source": [
        "# Surface form, season form\n",
        "\n",
        "def surface_form(player_id, surface, date):\n",
        "    \"\"\"\n",
        "    Returns win % over last 12 months on a given surface.\n",
        "    Date format: YYYYMMDD.\n",
        "    \"\"\"\n",
        "    df = ALL_MATCHES\n",
        "    year_ago = date - 10000\n",
        "    num_wins = len(df[(df['winner_id'] == player_id) & (df['surface'] == surface) & (df['tourney_date'] > year_ago) & (df['tourney_date'] <= date)])\n",
        "    num_losses = len(df[(df['loser_id'] == player_id) & (df['surface'] == surface) & (df['tourney_date'] > year_ago) & (df['tourney_date'] <= date)])\n",
        "\n",
        "    return num_wins / (num_wins + num_losses)\n",
        "\n",
        "\n",
        "def season_form(player_id, date):\n",
        "    \"\"\"\n",
        "    Returns win % over last 12 months.\n",
        "    Date format: YYYYMMDD.\n",
        "    \"\"\"\n",
        "    df = ALL_MATCHES\n",
        "    year_ago = date - 10000\n",
        "    num_wins = len(df[(df['winner_id'] == player_id) & (df['tourney_date'] > year_ago) & (df['tourney_date'] <= date)])\n",
        "    num_losses = len(df[(df['loser_id'] == player_id) & (df['tourney_date'] > year_ago) & (df['tourney_date'] <= date)])\n",
        "\n",
        "    return num_wins / (num_wins + num_losses)"
      ],
      "metadata": {
        "id": "w5umYBZQett9"
      },
      "execution_count": null,
      "outputs": []
    },
    {
      "cell_type": "code",
      "source": [
        "# Add season and surface form features\n",
        "\n",
        "features['winner_12month_form'] = 0\n",
        "\n",
        "for i in range(len(ALL_MATCHES)):\n",
        "    if i % 1000 == 0:\n",
        "        clear_output()\n",
        "        print(np.round(i/len(ALL_MATCHES) * 100, 1), ' %')\n",
        "\n",
        "    winner_id = ALL_MATCHES.loc[i, 'winner_id']\n",
        "    tourney_date = ALL_MATCHES.loc[i, 'tourney_date']\n",
        "\n",
        "    winner_form = season_form(winner_id, tourney_date)\n",
        "    features.at[i, 'winner_12month_form'] = winner_form"
      ],
      "metadata": {
        "id": "c5G9bq50uVOK",
        "colab": {
          "base_uri": "https://localhost:8080/"
        },
        "outputId": "d2fb1ac4-9589-4237-8299-7e6b02bec417"
      },
      "execution_count": null,
      "outputs": [
        {
          "output_type": "stream",
          "name": "stdout",
          "text": [
            "99.6  %\n"
          ]
        }
      ]
    },
    {
      "cell_type": "code",
      "source": [
        "features['loser_12month_form'] = 0\n",
        "\n",
        "for i in range(len(ALL_MATCHES)):\n",
        "    if i % 1000 == 0:\n",
        "        clear_output()\n",
        "        print(np.round(i/len(ALL_MATCHES) * 100, 1), ' %')\n",
        "\n",
        "    loser_id = ALL_MATCHES.loc[i, 'loser_id']\n",
        "    tourney_date = ALL_MATCHES.loc[i, 'tourney_date']\n",
        "\n",
        "    loser_form = season_form(loser_id, tourney_date)\n",
        "    features.at[i, 'loser_12month_form'] = loser_form"
      ],
      "metadata": {
        "colab": {
          "base_uri": "https://localhost:8080/"
        },
        "id": "sjsKKtk34ZCR",
        "outputId": "bf08886c-5966-44e7-8b93-59bac2d7285e"
      },
      "execution_count": null,
      "outputs": [
        {
          "output_type": "stream",
          "name": "stdout",
          "text": [
            "99.6  %\n"
          ]
        }
      ]
    },
    {
      "cell_type": "code",
      "source": [
        "features['winner_12month_form_surface'] = 0\n",
        "\n",
        "for i in range(len(ALL_MATCHES)):\n",
        "    if i % 1000 == 0:\n",
        "        clear_output()\n",
        "        print(np.round(i/len(ALL_MATCHES) * 100, 1), ' %')\n",
        "\n",
        "    winner_id = ALL_MATCHES.loc[i, 'winner_id']\n",
        "    tourney_date = ALL_MATCHES.loc[i, 'tourney_date']\n",
        "    surface = ALL_MATCHES.loc[i, 'surface']\n",
        "\n",
        "    winner_form_surface = surface_form(winner_id, surface, tourney_date)\n",
        "    features.at[i, 'winner_12month_form_surface'] = winner_form_surface"
      ],
      "metadata": {
        "colab": {
          "base_uri": "https://localhost:8080/"
        },
        "id": "K3k6QDCx4vc4",
        "outputId": "4678a68f-7f53-4aa8-9e91-f90fbcbe523f"
      },
      "execution_count": null,
      "outputs": [
        {
          "output_type": "stream",
          "name": "stdout",
          "text": [
            "99.6  %\n"
          ]
        }
      ]
    },
    {
      "cell_type": "code",
      "source": [
        "features['loser_12month_form_surface'] = 0\n",
        "\n",
        "for i in range(len(ALL_MATCHES)):\n",
        "    if i % 1000 == 0:\n",
        "        clear_output()\n",
        "        print(np.round(i/len(ALL_MATCHES) * 100, 1), ' %')\n",
        "\n",
        "    loser_id = ALL_MATCHES.loc[i, 'loser_id']\n",
        "    tourney_date = ALL_MATCHES.loc[i, 'tourney_date']\n",
        "    surface = ALL_MATCHES.loc[i, 'surface']\n",
        "\n",
        "    loser_form_surface = surface_form(loser_id, surface, tourney_date)\n",
        "    features.at[i, 'loser_12month_form_surface'] = loser_form_surface"
      ],
      "metadata": {
        "colab": {
          "base_uri": "https://localhost:8080/"
        },
        "id": "vAcy6rKm4-GY",
        "outputId": "e6bbba6e-3ae8-4327-8b4a-bceba8cc815d"
      },
      "execution_count": null,
      "outputs": [
        {
          "output_type": "stream",
          "name": "stdout",
          "text": [
            "99.6  %\n"
          ]
        }
      ]
    },
    {
      "cell_type": "code",
      "source": [
        "features['winner_hand'] = ALL_MATCHES['winner_hand'].map({'R': 0, 'L': 1})\n",
        "features['loser_hand'] = ALL_MATCHES['loser_hand'].map({'R': 0, 'L': 1})"
      ],
      "metadata": {
        "id": "VctuoDu_owtW"
      },
      "execution_count": null,
      "outputs": []
    },
    {
      "cell_type": "code",
      "source": [
        "names_dict = {'winner_rank': 'A_rank', 'loser_rank': 'B_rank',\n",
        "              'winner_elo_surface': 'A_elo_surface', 'loser_elo_surface': 'B_elo_surface',\n",
        "              'winner_elo': 'A_elo', 'loser_elo': 'B_elo',\n",
        "              'winner_avged_elo': 'A_avged_elo', 'loser_avged_elo': 'B_avged_elo',\n",
        "              'winner_wins': 'A_wins', 'loser_wins': 'B_wins',\n",
        "              'winner_wins_surface': 'A_wins_surface', 'loser_wins_surface': 'B_wins_surface',\n",
        "              'winner_12month_form': 'A_12month_form', 'loser_12month_form': 'B_12month_form',\n",
        "              'winner_12month_form_surface': 'A_12month_form_surface', 'loser_12month_form_surface': 'B_12month_form_surface',\n",
        "              'surface': 'surface', 'winner_hand': 'A_hand', 'loser_hand': 'B_hand'}\n",
        "\n",
        "features = features.rename(columns=names_dict)"
      ],
      "metadata": {
        "id": "twGxPSdaddT2"
      },
      "execution_count": null,
      "outputs": []
    },
    {
      "cell_type": "code",
      "source": [
        "from google.colab import files\n",
        "features.to_csv('features_processed.csv', index=False)\n",
        "files.download('features_processed.csv')"
      ],
      "metadata": {
        "colab": {
          "base_uri": "https://localhost:8080/",
          "height": 17
        },
        "id": "UWD3xnIW3ta0",
        "outputId": "5c7b57f1-d613-4160-9029-fb0739a1fe94"
      },
      "execution_count": null,
      "outputs": [
        {
          "output_type": "display_data",
          "data": {
            "text/plain": [
              "<IPython.core.display.Javascript object>"
            ],
            "application/javascript": [
              "\n",
              "    async function download(id, filename, size) {\n",
              "      if (!google.colab.kernel.accessAllowed) {\n",
              "        return;\n",
              "      }\n",
              "      const div = document.createElement('div');\n",
              "      const label = document.createElement('label');\n",
              "      label.textContent = `Downloading \"${filename}\": `;\n",
              "      div.appendChild(label);\n",
              "      const progress = document.createElement('progress');\n",
              "      progress.max = size;\n",
              "      div.appendChild(progress);\n",
              "      document.body.appendChild(div);\n",
              "\n",
              "      const buffers = [];\n",
              "      let downloaded = 0;\n",
              "\n",
              "      const channel = await google.colab.kernel.comms.open(id);\n",
              "      // Send a message to notify the kernel that we're ready.\n",
              "      channel.send({})\n",
              "\n",
              "      for await (const message of channel.messages) {\n",
              "        // Send a message to notify the kernel that we're ready.\n",
              "        channel.send({})\n",
              "        if (message.buffers) {\n",
              "          for (const buffer of message.buffers) {\n",
              "            buffers.push(buffer);\n",
              "            downloaded += buffer.byteLength;\n",
              "            progress.value = downloaded;\n",
              "          }\n",
              "        }\n",
              "      }\n",
              "      const blob = new Blob(buffers, {type: 'application/binary'});\n",
              "      const a = document.createElement('a');\n",
              "      a.href = window.URL.createObjectURL(blob);\n",
              "      a.download = filename;\n",
              "      div.appendChild(a);\n",
              "      a.click();\n",
              "      div.remove();\n",
              "    }\n",
              "  "
            ]
          },
          "metadata": {}
        },
        {
          "output_type": "display_data",
          "data": {
            "text/plain": [
              "<IPython.core.display.Javascript object>"
            ],
            "application/javascript": [
              "download(\"download_3a61d48c-9203-4627-8251-8151d8607e3f\", \"features.csv\", 21008267)"
            ]
          },
          "metadata": {}
        }
      ]
    },
    {
      "cell_type": "code",
      "source": [
        "### Possible additions:\n",
        "# Recent form (e.g. last 3 months)\n",
        "# Recovering from injury -- T/F\n",
        "# Performances in same tournament level\n",
        "# Highest previous round in tournament\n",
        "# Seeding (if available)\n",
        "\n",
        "def injury(player_id, date):\n",
        "    \"\"\"\n",
        "    Returns True if <=10 matches in last 12 months; False otherwise.\n",
        "    \"\"\"\n",
        "    df = ALL_MATCHES\n",
        "    year_ago = date - 10000\n",
        "    num_matches = len(df[(df['winner_id'] == player_id) & (df['tourney_date'] > year_ago)] & (df['tourney_date'] < date))\n",
        "\n",
        "    return num_matches <= 10\n"
      ],
      "metadata": {
        "id": "neRQKUJFd8Ko"
      },
      "execution_count": 2,
      "outputs": []
    }
  ]
}
